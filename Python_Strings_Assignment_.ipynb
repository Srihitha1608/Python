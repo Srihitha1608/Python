{
  "cells": [
    {
      "cell_type": "markdown",
      "id": "b5fabd6b",
      "metadata": {
        "id": "b5fabd6b"
      },
      "source": [
        "<a href=\"https://www.viharatech.com\"><img src=\"https://miro.medium.com/v2/resize:fit:828/format:webp/1*on2Bpj6A5gfd-CzaFOAZRA.jpeg\"></a>\n",
        "\n",
        "\n",
        "- `Welcome to our interactive learning session! In this Jupyter notebook, you'll find a series of questions related to Python String Concept. To maximize your learning, please write Python code in the cell below each question and execute it. This hands-on practice will help reinforce your understanding of the concepts. Feel free to reach out if you have any questions or need assistance. Happy coding! 💻🐍 `"
      ]
    },
    {
      "cell_type": "code",
      "source": [],
      "metadata": {
        "id": "i-IX59MC2Hvb"
      },
      "id": "i-IX59MC2Hvb",
      "execution_count": null,
      "outputs": []
    },
    {
      "cell_type": "markdown",
      "id": "db689fc2",
      "metadata": {
        "id": "db689fc2"
      },
      "source": [
        "### Question 1: Write a Python program to count the number of characters in a string without using len function.\n",
        "\n",
        "- `sample input : `\n",
        "    - `var = 'python java'`\n",
        "- `sample output :`\n",
        "    - `result : 11`"
      ]
    },
    {
      "cell_type": "code",
      "execution_count": null,
      "id": "c9ce9180",
      "metadata": {
        "id": "c9ce9180",
        "colab": {
          "base_uri": "https://localhost:8080/"
        },
        "outputId": "41391fce-364d-40fe-d6f9-d8c0accdd992"
      },
      "outputs": [
        {
          "output_type": "stream",
          "name": "stdout",
          "text": [
            "result: 11\n"
          ]
        }
      ],
      "source": [
        "# Please write The solution Here for above question 1:\n",
        "\n",
        "var = 'python java'\n",
        "c=0\n",
        "for i in var:\n",
        "  c=c+1\n",
        "print(f'result: {c}')\n"
      ]
    },
    {
      "cell_type": "markdown",
      "id": "46f069cc",
      "metadata": {
        "id": "46f069cc"
      },
      "source": [
        "### Question 2: Write a Python program to reverse a string without using [::-1]\n",
        "\n",
        "- `sample input : `\n",
        "    - `var = 'python'`\n",
        "- `sample output :`\n",
        "    - `result : nohtyp`"
      ]
    },
    {
      "cell_type": "code",
      "execution_count": null,
      "id": "2cde3dcc",
      "metadata": {
        "id": "2cde3dcc",
        "outputId": "c529627f-081d-4572-8dd9-2066f2e19315",
        "colab": {
          "base_uri": "https://localhost:8080/"
        }
      },
      "outputs": [
        {
          "output_type": "stream",
          "name": "stdout",
          "text": [
            "result: nohtyp\n"
          ]
        }
      ],
      "source": [
        "# Please write The solution Here for above question 2:\n",
        "var = 'python'\n",
        "a=list(var)\n",
        "a.reverse()\n",
        "b=''.join(a)\n",
        "print(f'result: {b}')\n",
        "\n",
        "\n"
      ]
    },
    {
      "cell_type": "markdown",
      "id": "0f3a2ef5",
      "metadata": {
        "id": "0f3a2ef5"
      },
      "source": [
        "### Question 3: Write a Python program to check if a string is a palindrome don't use [::-1].\n",
        "\n",
        "- `sample input : `\n",
        "    - `var = 'NUN'`\n",
        "- `sample output :`\n",
        "    - `result : It is a Palindrome`\n",
        "    \n",
        "- `palindrome concept = https://www.dictionary.com/e/palindromic-word/#:~:text=A%20palindrome%20is%20a%20word,roots%20in%20the%20early%201600s.`"
      ]
    },
    {
      "cell_type": "code",
      "execution_count": null,
      "id": "74b9f01a",
      "metadata": {
        "id": "74b9f01a",
        "colab": {
          "base_uri": "https://localhost:8080/"
        },
        "outputId": "1400eb98-00f2-4370-bf43-40cd25c1e419"
      },
      "outputs": [
        {
          "output_type": "stream",
          "name": "stdout",
          "text": [
            "It is a Palindrome\n"
          ]
        }
      ],
      "source": [
        "# Please write The solution Here for above question 3:\n",
        "var = 'NUN'\n",
        "a=list(var)\n",
        "a.reverse()\n",
        "b=''.join(a)\n",
        "\n",
        "if var==b:\n",
        "  print('It is a Palindrome')\n",
        "else:\n",
        "  print('Not a Palindrome')\n",
        "\n"
      ]
    },
    {
      "cell_type": "markdown",
      "id": "98e0fc60",
      "metadata": {
        "id": "98e0fc60"
      },
      "source": [
        "### Question 4: Write a Python program to find the most common character in a string.\n",
        "\n",
        "- `sample input : `\n",
        "    - `var = 'Hello world '`\n",
        "- `sample output :`\n",
        "    - `result : l, because l is repeating 3 times `"
      ]
    },
    {
      "cell_type": "code",
      "execution_count": null,
      "id": "d9aa4ca6",
      "metadata": {
        "id": "d9aa4ca6",
        "colab": {
          "base_uri": "https://localhost:8080/"
        },
        "outputId": "72abc39e-f684-4bd4-c0e7-52eee4db7091"
      },
      "outputs": [
        {
          "output_type": "stream",
          "name": "stdout",
          "text": [
            "l\n"
          ]
        }
      ],
      "source": [
        "# Please write The solution Here for above question 4:\n",
        "var='Hello world'\n",
        "c=[]\n",
        "\n",
        "for i in var:\n",
        "  b=var.count(i)\n",
        "  c.append(b)\n",
        "\n",
        "a=set(var)\n",
        "for j in a:\n",
        "  if var.count(j)==max(c):\n",
        "    print(j)\n",
        "\n",
        "\n"
      ]
    },
    {
      "cell_type": "markdown",
      "id": "17eb44eb",
      "metadata": {
        "id": "17eb44eb"
      },
      "source": [
        "### Question 5: Write a Python program to check if two strings are anagrams.\n",
        "\n",
        "- `sample input : `\n",
        "    - `var1 = 'listen'`\n",
        "    - `var2 = 'silent'`\n",
        "- `sample output :`\n",
        "    - `result : both are anagram because characters in var2 should present in var1 `"
      ]
    },
    {
      "cell_type": "code",
      "execution_count": null,
      "id": "29f0e87e",
      "metadata": {
        "id": "29f0e87e",
        "colab": {
          "base_uri": "https://localhost:8080/"
        },
        "outputId": "e9d1d1e5-a8ce-4f14-9cb2-ce002c7bbcbb"
      },
      "outputs": [
        {
          "output_type": "stream",
          "name": "stdout",
          "text": [
            "Both are anagram\n"
          ]
        }
      ],
      "source": [
        "# Please write The solution Here for above question 5:\n",
        "var1='listen'\n",
        "var2='silent'\n",
        "\n",
        "for i in var2:\n",
        "  if i not in var1:\n",
        "    break\n",
        "\n",
        "if i in var1:\n",
        "  print('Both are anagram')\n",
        "else:\n",
        "  print('Not anagram')\n",
        "\n"
      ]
    },
    {
      "cell_type": "markdown",
      "id": "fac17884",
      "metadata": {
        "id": "fac17884"
      },
      "source": [
        "### Question 6: Write a Python program to remove all the vowels from a string.\n",
        "\n",
        "- `sample input : `\n",
        "    - `var = 'python'`\n",
        "- `sample output :`\n",
        "    - `result : pythn , because vowels are [AEIOUaeiou]`"
      ]
    },
    {
      "cell_type": "code",
      "execution_count": null,
      "id": "f4b33095",
      "metadata": {
        "id": "f4b33095",
        "colab": {
          "base_uri": "https://localhost:8080/"
        },
        "outputId": "b26496ea-e82a-4a01-d5de-3a125b73c8ab"
      },
      "outputs": [
        {
          "output_type": "stream",
          "name": "stdout",
          "text": [
            "pythn\n"
          ]
        }
      ],
      "source": [
        "# Please write The solution Here for above question 6:\n",
        "var='python'\n",
        "c=''\n",
        "for i in var:\n",
        "  if i not in 'aeiouAEIOU':\n",
        "    c=c+i\n",
        "\n",
        "print(c)\n",
        "\n",
        "\n"
      ]
    },
    {
      "cell_type": "markdown",
      "id": "2170d6f4",
      "metadata": {
        "id": "2170d6f4"
      },
      "source": [
        "### Question 7: Write a Python program to find the longest word in a string.\n",
        "\n",
        "- `sample input : `\n",
        "    - `var = 'python is Easy Language'`\n",
        "- `sample output :`\n",
        "    - `result : Language`"
      ]
    },
    {
      "cell_type": "code",
      "execution_count": null,
      "id": "f35de8b3",
      "metadata": {
        "id": "f35de8b3",
        "colab": {
          "base_uri": "https://localhost:8080/"
        },
        "outputId": "2f1e1851-50ba-46c5-dd80-9bbb5a585dab"
      },
      "outputs": [
        {
          "output_type": "stream",
          "name": "stdout",
          "text": [
            "Language\n"
          ]
        }
      ],
      "source": [
        "# Please write The solution Here for above question 7:\n",
        "var='python is Easy Language'\n",
        "a=var.split()\n",
        "c=[]\n",
        "\n",
        "for i in a:\n",
        "  b=len(i)\n",
        "  c.append(b)\n",
        "\n",
        "for j in a:\n",
        "  if len(j)==max(c):\n",
        "    print(j)\n",
        "\n"
      ]
    },
    {
      "cell_type": "markdown",
      "id": "f349bdb7",
      "metadata": {
        "id": "f349bdb7"
      },
      "source": [
        "### Question 8: Write a Python program to capitalize the first letter of each word in a string [dont use built-in-function called title].\n",
        "\n",
        "- `sample input : `\n",
        "    - `var = 'python is easy'`\n",
        "- `sample output :`\n",
        "    - `result : Python Is Easy`"
      ]
    },
    {
      "cell_type": "code",
      "execution_count": null,
      "id": "a1b4c4e6",
      "metadata": {
        "id": "a1b4c4e6",
        "colab": {
          "base_uri": "https://localhost:8080/"
        },
        "outputId": "203c58e3-1cf8-40b5-bb1e-34142cd4b0d8"
      },
      "outputs": [
        {
          "output_type": "stream",
          "name": "stdout",
          "text": [
            " Python Is Easy\n"
          ]
        }
      ],
      "source": [
        "# Please write The solution Here for above question 8:\n",
        "var= 'python is easy'\n",
        "a=var.split()\n",
        "c=''\n",
        "\n",
        "for i in a:\n",
        "  b=i.capitalize()\n",
        "  c=c+' '+b\n",
        "\n",
        "print(c)\n"
      ]
    },
    {
      "cell_type": "markdown",
      "id": "d2770696",
      "metadata": {
        "id": "d2770696"
      },
      "source": [
        "### Question 9: Write a Python program to find the frequency of each character in a string.\n",
        "\n",
        "- `sample input : `\n",
        "    - `var = 'sharuk khan'`\n",
        "- `sample output :`\n",
        "    - `result : {'s': 1, 'h': 2, 'a': 2, 'r': 1, 'u': 1, 'k': 2, ' ': 1, 'n': 1}`"
      ]
    },
    {
      "cell_type": "code",
      "execution_count": null,
      "id": "7fdc2e9c",
      "metadata": {
        "id": "7fdc2e9c"
      },
      "outputs": [],
      "source": [
        "# Please write The solution Here for above question 9:\n",
        "\n",
        "pass\n"
      ]
    },
    {
      "cell_type": "markdown",
      "id": "5c9a3f09",
      "metadata": {
        "id": "5c9a3f09"
      },
      "source": [
        "### Question 10: write a python programme to find the sum of all the even characters based on Ascii values\n",
        "\n",
        "- `sample input : `\n",
        "    - `var = 'sharuk khan'`\n",
        "- `sample output :`\n",
        "    - `result : 464`\n"
      ]
    },
    {
      "cell_type": "code",
      "execution_count": null,
      "id": "57c0c30e",
      "metadata": {
        "id": "57c0c30e",
        "colab": {
          "base_uri": "https://localhost:8080/"
        },
        "outputId": "f12c38d2-86f7-4e07-d242-8fc3eec5b694"
      },
      "outputs": [
        {
          "output_type": "stream",
          "name": "stdout",
          "text": [
            "464\n"
          ]
        }
      ],
      "source": [
        "# Please write The solution Here for above question 10:\n",
        "var='sharuk khan'\n",
        "c=0\n",
        "\n",
        "for i in var:\n",
        "  a=ord(i)\n",
        "  if a%2==0:\n",
        "    c=c+a\n",
        "\n",
        "print(c)\n",
        "\n"
      ]
    }
  ],
  "metadata": {
    "kernelspec": {
      "display_name": "Python 3 (ipykernel)",
      "language": "python",
      "name": "python3"
    },
    "language_info": {
      "codemirror_mode": {
        "name": "ipython",
        "version": 3
      },
      "file_extension": ".py",
      "mimetype": "text/x-python",
      "name": "python",
      "nbconvert_exporter": "python",
      "pygments_lexer": "ipython3",
      "version": "3.11.5"
    },
    "colab": {
      "provenance": []
    }
  },
  "nbformat": 4,
  "nbformat_minor": 5
}
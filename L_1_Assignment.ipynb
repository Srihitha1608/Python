{
  "cells": [
    {
      "cell_type": "markdown",
      "metadata": {
        "id": "GqX1JGlw7Nup"
      },
      "source": [
        "<a href=\"https://www.viharatech.com\"><img src=\"https://miro.medium.com/v2/resize:fit:828/format:webp/1*on2Bpj6A5gfd-CzaFOAZRA.jpeg\"></a>\n",
        "\n",
        "\n",
        "- `Welcome to our interactive learning session! In this Jupyter notebook, you'll find a series of questions related to Python Concept. To maximize your learning, please write Python code in the cell below each question and execute it. This hands-on practice will help reinforce your understanding of the concepts. Feel free to reach out if you have any questions or need assistance. Happy coding! 💻🐍 `"
      ]
    },
    {
      "cell_type": "markdown",
      "metadata": {
        "id": "NvAM7A-i7Nuy"
      },
      "source": [
        "## Question 1"
      ]
    },
    {
      "cell_type": "markdown",
      "metadata": {
        "id": "Fou93lN47Nuz"
      },
      "source": [
        "- `Take two integer numbers and return their product. If the product is greater than 1000, then return their sum if product is less than 1000 return product value only.`\n",
        "\n"
      ]
    },
    {
      "cell_type": "code",
      "execution_count": 19,
      "metadata": {
        "id": "XLG6CYcV7Nu0",
        "colab": {
          "base_uri": "https://localhost:8080/"
        },
        "outputId": "aaf43276-f8a6-4922-df26-fc3b72534bf7"
      },
      "outputs": [
        {
          "output_type": "stream",
          "name": "stdout",
          "text": [
            "600\n"
          ]
        }
      ],
      "source": [
        "# Please write The solution Here for above question 1:\n",
        "\n",
        "a=20\n",
        "b=30\n",
        "c=a*b\n",
        "\n",
        "if c>1000:\n",
        "  print(a+b)\n",
        "\n",
        "elif c<1000:\n",
        "  print(c)\n",
        "\n"
      ]
    },
    {
      "cell_type": "markdown",
      "metadata": {
        "id": "gaM71ubS7Nu4"
      },
      "source": [
        "## question 2"
      ]
    },
    {
      "cell_type": "markdown",
      "metadata": {
        "id": "wRGKZkM97Nu5"
      },
      "source": [
        "- `Given a range of the first 10 numbers, Iterate from the start number to the end number, and In each iteration print the sum of the current number and previous number`\n",
        "\n",
        "Expected output:\n",
        "-----------------\n",
        "    Printing current and previous number sum in a range(10)\n",
        "    Current Number 0 Previous Number  0  Sum:  0\n",
        "    Current Number 1 Previous Number  0  Sum:  1\n",
        "    Current Number 2 Previous Number  1  Sum:  3\n",
        "    Current Number 3 Previous Number  2  Sum:  5\n",
        "    Current Number 4 Previous Number  3  Sum:  7\n",
        "    Current Number 5 Previous Number  4  Sum:  9\n",
        "    Current Number 6 Previous Number  5  Sum:  11\n",
        "    Current Number 7 Previous Number  6  Sum:  13\n",
        "    Current Number 8 Previous Number  7  Sum:  15\n",
        "    Current Number 9 Previous Number  8  Sum:  17"
      ]
    },
    {
      "cell_type": "code",
      "execution_count": 20,
      "metadata": {
        "id": "fVsrISMX7Nu7",
        "colab": {
          "base_uri": "https://localhost:8080/"
        },
        "outputId": "1b3ede72-62e0-4842-c5eb-a7c8746643ca"
      },
      "outputs": [
        {
          "output_type": "stream",
          "name": "stdout",
          "text": [
            "Current Number 0  Previous Number 0  Sum: 0\n",
            "Current Number 1  Previous Number 0  Sum: 1\n",
            "Current Number 2  Previous Number 1  Sum: 3\n",
            "Current Number 3  Previous Number 2  Sum: 5\n",
            "Current Number 4  Previous Number 3  Sum: 7\n",
            "Current Number 5  Previous Number 4  Sum: 9\n",
            "Current Number 6  Previous Number 5  Sum: 11\n",
            "Current Number 7  Previous Number 6  Sum: 13\n",
            "Current Number 8  Previous Number 7  Sum: 15\n",
            "Current Number 9  Previous Number 8  Sum: 17\n"
          ]
        }
      ],
      "source": [
        "# Please write The solution Here for above question 2:\n",
        "\n",
        "for i in range(0,10):\n",
        "  if i!=0:\n",
        "    p=i-1\n",
        "  else:\n",
        "    p=0\n",
        "\n",
        "  sum=i+p\n",
        "  print(f'Current Number {i}  Previous Number {p}  Sum: {sum}')\n"
      ]
    },
    {
      "cell_type": "markdown",
      "metadata": {
        "id": "oHWh3M4p7Nu8"
      },
      "source": [
        "## question 3"
      ]
    },
    {
      "cell_type": "markdown",
      "metadata": {
        "id": "YdgKf1dV7Nu9"
      },
      "source": [
        "Given a string and an integer number n, remove characters from a string starting from zero up to n and return a new string\n",
        "\n",
        "- Example :\n",
        "     `(\"pynative\", 4) so output must be tive.`\n",
        "     \n",
        "     `Note: n must be less than the length of the string.`"
      ]
    },
    {
      "cell_type": "code",
      "execution_count": 21,
      "metadata": {
        "id": "j5228-7V7Nu-",
        "colab": {
          "base_uri": "https://localhost:8080/"
        },
        "outputId": "2f6c4821-936f-448c-ea4a-80599da0e100"
      },
      "outputs": [
        {
          "output_type": "stream",
          "name": "stdout",
          "text": [
            "tive\n"
          ]
        }
      ],
      "source": [
        "# Please write The solution Here for above question 3:\n",
        "\n",
        "a='pynative'\n",
        "n=4\n",
        "print(a[n:])\n"
      ]
    },
    {
      "cell_type": "markdown",
      "metadata": {
        "id": "1bMHIvK07NvB"
      },
      "source": [
        "## question 4"
      ]
    },
    {
      "cell_type": "markdown",
      "metadata": {
        "id": "HBesYwn47NvB"
      },
      "source": [
        "### `Given a list of numbers, return True if first and last number of a list is same`\n",
        "\n",
        "    Expected Output:\n",
        "    -------------------------------------\n",
        "\n",
        "    Given list is\n",
        "    a =  [10, 20, 30, 40, 10]\n",
        "    b = [10 , 20 , 30 , 40, 10 ]\n",
        "    result is True\n",
        "\n",
        "    Given list is  \n",
        "    a = [10, 20, 30, 40, 50]\n",
        "    b = [11 , 21 , 31 , 41 , 51 ]\n",
        "    result is False"
      ]
    },
    {
      "cell_type": "code",
      "execution_count": 22,
      "metadata": {
        "id": "AHyMAm6a7NvC",
        "colab": {
          "base_uri": "https://localhost:8080/"
        },
        "outputId": "5f3c6cd7-c966-447c-e360-39d1e82b98b9"
      },
      "outputs": [
        {
          "output_type": "stream",
          "name": "stdout",
          "text": [
            "True\n"
          ]
        }
      ],
      "source": [
        "# Please write The solution Here for above question 4:\n",
        "\n",
        "a=[10,20,30,40,10]\n",
        "n=len(a)-1\n",
        "\n",
        "if a[0]==a[n]:\n",
        "  print(True)\n",
        "else:\n",
        "  print(False)\n"
      ]
    },
    {
      "cell_type": "code",
      "source": [
        "b=[11,21,31,41,51]\n",
        "n=len(b)-1\n",
        "\n",
        "if b[0]==b[n]:\n",
        "  print(True)\n",
        "\n",
        "else:\n",
        "  print(False)\n"
      ],
      "metadata": {
        "colab": {
          "base_uri": "https://localhost:8080/"
        },
        "id": "AKTpg1dqXlih",
        "outputId": "09d756cd-3c97-4dba-ffe9-0214eb9131e3"
      },
      "execution_count": 23,
      "outputs": [
        {
          "output_type": "stream",
          "name": "stdout",
          "text": [
            "False\n"
          ]
        }
      ]
    },
    {
      "cell_type": "markdown",
      "metadata": {
        "id": "ppocnORv7NvD"
      },
      "source": [
        "## question 5"
      ]
    },
    {
      "cell_type": "markdown",
      "metadata": {
        "id": "9I4lllwi7NvD"
      },
      "source": [
        "### Given a two Python list. Iterate both lists simultaneously such that list1 should display item in original order and list2 in reverse order\n",
        "\n",
        "    list1 = [10, 20, 30, 40]\n",
        "    list2 = [100, 200, 300, 400]\n",
        "\n",
        "\n",
        "    Expected output:\n",
        "    -----------------------------\n",
        "    10 400\n",
        "    20 300\n",
        "    30 200\n",
        "    40 100"
      ]
    },
    {
      "cell_type": "code",
      "execution_count": 24,
      "metadata": {
        "id": "2pPCR7vN7NvD",
        "colab": {
          "base_uri": "https://localhost:8080/"
        },
        "outputId": "bb37dcc2-f0f3-4dd7-da01-3de6347573d1"
      },
      "outputs": [
        {
          "output_type": "stream",
          "name": "stdout",
          "text": [
            "10\n",
            "20\n",
            "30\n",
            "40\n",
            "400\n",
            "300\n",
            "200\n",
            "100\n"
          ]
        }
      ],
      "source": [
        "# Please write The solution Here for above question 5:\n",
        "\n",
        "list1 = [10, 20, 30, 40]\n",
        "list2 = [100, 200, 300, 400]\n",
        "\n",
        "list2.reverse()\n",
        "\n",
        "for i in list1:\n",
        "  print(i)\n",
        "\n",
        "for j in list2:\n",
        "  print(j)\n",
        "\n"
      ]
    },
    {
      "cell_type": "markdown",
      "metadata": {
        "id": "saaiKVwx7NvE"
      },
      "source": [
        "## question 6"
      ]
    },
    {
      "cell_type": "markdown",
      "metadata": {
        "id": "UhQ8oEsc7NvE"
      },
      "source": [
        "### Remove empty strings from the list of strings\n",
        "\n",
        "\n",
        "    list1 = [\"Mike\", \"\", \"Emma\", \"Kelly\", \"\", \"Brad\"]\n",
        "\n",
        "    Expected output:\n",
        "    ----------------------\n",
        "\n",
        "    [\"Mike\", \"Emma\", \"Kelly\", \"Brad\"]\n"
      ]
    },
    {
      "cell_type": "code",
      "execution_count": null,
      "metadata": {
        "id": "4GEbQVr37NvE"
      },
      "outputs": [],
      "source": [
        "# Please write The solution Here for above question 6:\n",
        "\n",
        "\n"
      ]
    },
    {
      "cell_type": "code",
      "execution_count": 26,
      "metadata": {
        "id": "XAKoP94n7NvF",
        "colab": {
          "base_uri": "https://localhost:8080/"
        },
        "outputId": "2ea33f8e-1cec-40f5-ab55-d6e776e1afc6"
      },
      "outputs": [
        {
          "output_type": "stream",
          "name": "stdout",
          "text": [
            "['Mike', 'Emma', 'Kelly', 'Brad']\n"
          ]
        }
      ],
      "source": [
        "list1 = [\"Mike\", \"\", \"Emma\", \"Kelly\", \"\", \"Brad\"]\n",
        "c=''\n",
        "\n",
        "for i in list1:\n",
        "  if i!=\"\":\n",
        "    c=c+i+' '\n",
        "\n",
        "d=c.split()\n",
        "print(d)\n",
        "\n"
      ]
    },
    {
      "cell_type": "code",
      "source": [],
      "metadata": {
        "id": "5bQAdJ757ae1"
      },
      "execution_count": null,
      "outputs": []
    }
  ],
  "metadata": {
    "kernelspec": {
      "display_name": "Python 3 (ipykernel)",
      "language": "python",
      "name": "python3"
    },
    "language_info": {
      "codemirror_mode": {
        "name": "ipython",
        "version": 3
      },
      "file_extension": ".py",
      "mimetype": "text/x-python",
      "name": "python",
      "nbconvert_exporter": "python",
      "pygments_lexer": "ipython3",
      "version": "3.11.5"
    },
    "colab": {
      "provenance": []
    }
  },
  "nbformat": 4,
  "nbformat_minor": 0
}